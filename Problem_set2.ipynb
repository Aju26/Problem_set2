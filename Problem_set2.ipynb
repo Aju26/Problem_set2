{
 "cells": [
  {
   "cell_type": "code",
   "execution_count": 21,
   "id": "1e0dba08-046d-4d7d-94ff-ee8c27353b18",
   "metadata": {},
   "outputs": [
    {
     "data": {
      "text/plain": [
       "6"
      ]
     },
     "execution_count": 21,
     "metadata": {},
     "output_type": "execute_result"
    }
   ],
   "source": [
    "# Q1\n",
    "a = 0\n",
    "\n",
    "def b():\n",
    "    global a\n",
    "    a = c(a)\n",
    "\n",
    "def c(a):\n",
    "    return a + 2\n",
    "\n",
    "# Simulate the interpreter actions:\n",
    "b()\n",
    "b()\n",
    "b()\n",
    "a  # Answer will be displayed\n"
   ]
  },
  {
   "cell_type": "code",
   "execution_count": null,
   "id": "cc15e570-daad-4151-80d4-ee1ddc946b34",
   "metadata": {},
   "outputs": [],
   "source": [
    "# Each call to b() calls c(a) which increments a by 2. After three calls, a = 6."
   ]
  },
  {
   "cell_type": "code",
   "execution_count": 10,
   "id": "ab455f1c-729c-4009-a6e1-a4356e2abfef",
   "metadata": {},
   "outputs": [
    {
     "name": "stdout",
     "output_type": "stream",
     "text": [
      "File midterm.py not found.\n",
      "None\n",
      "File idterm.py not found.\n",
      "None\n"
     ]
    }
   ],
   "source": [
    "#Q2\n",
    "# fileLength function with improved exception handling\n",
    "def fileLength(filename):\n",
    "    try:\n",
    "        with open(filename, 'r') as f:\n",
    "            contents = f.read()\n",
    "            return len(contents)\n",
    "    except FileNotFoundError:\n",
    "        print(f\"File {filename} not found.\")\n",
    "\n",
    "# Test the function\n",
    "print(fileLength('midterm.py'))\n",
    "print(fileLength('idterm.py'))\n"
   ]
  },
  {
   "cell_type": "code",
   "execution_count": 11,
   "id": "848ade12-0258-45a6-a712-1246f93aee80",
   "metadata": {},
   "outputs": [
    {
     "name": "stdout",
     "output_type": "stream",
     "text": [
      "I am a Kangaroo located at coordinates (0,0)\n",
      "['doll', 'firetruck', 'kitten']\n",
      "I am a Kangaroo located at coordinates (3,0)\n"
     ]
    }
   ],
   "source": [
    "# Q3\n",
    "# Marsupial and Kangaroo classes\n",
    "class Marsupial:\n",
    "    def __init__(self):\n",
    "        self.pouch = []\n",
    "\n",
    "    def put_in_pouch(self, item):\n",
    "        self.pouch.append(item)\n",
    "\n",
    "    def pouch_contents(self):\n",
    "        return self.pouch\n",
    "\n",
    "class Kangaroo(Marsupial):\n",
    "    def __init__(self, x, y):\n",
    "        super().__init__()\n",
    "        self.x = x\n",
    "        self.y = y\n",
    "\n",
    "    def jump(self, dx, dy):\n",
    "        self.x += dx\n",
    "        self.y += dy\n",
    "\n",
    "    def __str__(self):\n",
    "        return f\"I am a Kangaroo located at coordinates ({self.x},{self.y})\"\n",
    "\n",
    "# Test the classes\n",
    "k = Kangaroo(0, 0)\n",
    "print(k)\n",
    "k.put_in_pouch('doll')\n",
    "k.put_in_pouch('firetruck')\n",
    "k.put_in_pouch('kitten')\n",
    "print(k.pouch_contents())\n",
    "k.jump(1, 0)\n",
    "k.jump(1, 0)\n",
    "k.jump(1, 0)\n",
    "print(k)\n"
   ]
  },
  {
   "cell_type": "code",
   "execution_count": 12,
   "id": "5d17fe13-338c-4339-89f4-8fa163572f33",
   "metadata": {},
   "outputs": [
    {
     "name": "stdout",
     "output_type": "stream",
     "text": [
      "10\n",
      "5\n",
      "16\n",
      "8\n",
      "4\n",
      "2\n",
      "1\n"
     ]
    }
   ],
   "source": [
    "# Q4\n",
    "# Collatz function (recursive)\n",
    "def collatz(x):\n",
    "    print(x)\n",
    "    if x == 1:\n",
    "        return\n",
    "    elif x % 2 == 0:\n",
    "        collatz(x // 2)\n",
    "    else:\n",
    "        collatz(3 * x + 1)\n",
    "\n",
    "# Test the function\n",
    "collatz(10)\n"
   ]
  },
  {
   "cell_type": "code",
   "execution_count": 13,
   "id": "d68bccf9-f5fc-46b0-add1-5683f3d90d49",
   "metadata": {},
   "outputs": [
    {
     "name": "stdout",
     "output_type": "stream",
     "text": [
      "0\n",
      "01\n",
      "011\n",
      "01001\n"
     ]
    }
   ],
   "source": [
    "# Q5\n",
    "# Binary function (recursive)\n",
    "def binary(n):\n",
    "    if n == 0:\n",
    "        print(0, end=\"\")\n",
    "    elif n > 0:\n",
    "        binary(n // 2)\n",
    "        print(n % 2, end=\"\")\n",
    "\n",
    "# Test the function\n",
    "binary(0)\n",
    "print()\n",
    "binary(1)\n",
    "print()\n",
    "binary(3)\n",
    "print()\n",
    "binary(9)\n",
    "print()\n"
   ]
  },
  {
   "cell_type": "code",
   "execution_count": 18,
   "id": "bc672916-4292-4f7e-a86e-13b91edfb36e",
   "metadata": {},
   "outputs": [
    {
     "name": "stdout",
     "output_type": "stream",
     "text": [
      "W3C Mission\n",
      " Principles\n"
     ]
    }
   ],
   "source": [
    "# Q6\n",
    "from html.parser import HTMLParser\n",
    "\n",
    "class HeadingParser(HTMLParser):\n",
    "    def __init__(self):\n",
    "        super().__init__()\n",
    "        self.headings = []\n",
    "        self.current_tag = \"\"\n",
    "    \n",
    "    def handle_starttag(self, tag, attrs):\n",
    "        if tag.startswith(\"h\"):\n",
    "            self.current_tag = tag\n",
    "\n",
    "    def handle_endtag(self, tag):\n",
    "        if tag == self.current_tag:\n",
    "            self.current_tag = \"\"\n",
    "\n",
    "    def handle_data(self, data):\n",
    "        if self.current_tag.startswith(\"h\"):\n",
    "            level = int(self.current_tag[1]) - 1\n",
    "            print(\" \" * level + data)\n",
    "\n",
    "# Test the class (replace 'w3c.html' with actual content if testing in a Jupyter environment)\n",
    "hp = HeadingParser()\n",
    "hp.feed(\"<h1>W3C Mission</h1><h2>Principles</h2>\")\n"
   ]
  },
  {
   "cell_type": "code",
   "execution_count": 19,
   "id": "30dc7097-96ab-4261-afc3-4c62ee4e7345",
   "metadata": {},
   "outputs": [
    {
     "name": "stdout",
     "output_type": "stream",
     "text": [
      "http://reed.cs.depaul.edu/lperkovic/csc242/test1.html\n"
     ]
    }
   ],
   "source": [
    "# Q7\n",
    "import requests\n",
    "from bs4 import BeautifulSoup\n",
    "import time\n",
    "\n",
    "def webdir(url, depth, indent):\n",
    "    # Base case: if depth is 0, stop recursion\n",
    "    if depth < 0:\n",
    "        return\n",
    "    \n",
    "    # Print the URL with the specified indentation\n",
    "    print(' ' * indent + url)\n",
    "    \n",
    "    # Attempt to retrieve and parse the webpage content\n",
    "    try:\n",
    "        response = requests.get(url)\n",
    "        content = response.text\n",
    "        soup = BeautifulSoup(content, 'html.parser')\n",
    "        \n",
    "        # Find all hyperlinks on the page\n",
    "        links = soup.find_all('a', href=True)\n",
    "        \n",
    "        # Recursively visit each link up to the specified depth\n",
    "        for link in links:\n",
    "            href = link['href']\n",
    "            # Convert relative URLs to absolute URLs\n",
    "            if href.startswith('http'):\n",
    "                next_url = href\n",
    "            else:\n",
    "                next_url = requests.compat.urljoin(url, href)\n",
    "            \n",
    "            # Recursive call with decreased depth and increased indentation\n",
    "            webdir(next_url, depth - 1, indent + 2)\n",
    "            \n",
    "            # Adding a short delay to avoid overwhelming the server\n",
    "            time.sleep(0.1)\n",
    "    except Exception as e:\n",
    "        print(' ' * indent + f\"Error accessing {url}: {e}\")\n",
    "\n",
    "# Example usage\n",
    "webdir('http://reed.cs.depaul.edu/lperkovic/csc242/test1.html', 2, 0)\n"
   ]
  },
  {
   "cell_type": "code",
   "execution_count": 20,
   "id": "8e835b6e-d8c0-4abf-b4dd-724f76b6dbd4",
   "metadata": {
    "scrolled": true
   },
   "outputs": [
    {
     "name": "stdout",
     "output_type": "stream",
     "text": [
      "a) All the temperature data:\n",
      "24.8\n",
      "28.4\n",
      "27.9\n",
      "27.6\n",
      "4.2\n",
      "8.3\n",
      "15.7\n",
      "10.4\n",
      "13.6\n",
      "20.7\n",
      "27.7\n",
      "22.2\n",
      "\n",
      "b) All the cities, but without repetition:\n",
      "Mumbai\n",
      "London\n",
      "Cairo\n",
      "\n",
      "c) All the records for India:\n",
      "('Mumbai', 'India', 'Winter', 24.8, 5.9)\n",
      "('Mumbai', 'India', 'Spring', 28.4, 16.2)\n",
      "('Mumbai', 'India', 'Summer', 27.9, 1549.4)\n",
      "('Mumbai', 'India', 'Fall', 27.6, 346.0)\n",
      "\n",
      "d) All the Fall records:\n",
      "('Mumbai', 'India', 'Fall', 27.6, 346.0)\n",
      "('London', 'United Kingdom', 'Fall', 10.4, 218.5)\n",
      "('Cairo', 'Egypt', 'Fall', 22.2, 4.5)\n",
      "\n",
      "e) City, country, and season for which average rainfall is between 200 and 400 mm:\n",
      "('London', 'United Kingdom', 'Fall')\n",
      "('London', 'United Kingdom', 'Winter')\n",
      "('Mumbai', 'India', 'Fall')\n",
      "\n",
      "f) City and country for which average Fall temperature is above 20 degrees, in increasing temperature order:\n",
      "('Cairo', 'Egypt')\n",
      "('Mumbai', 'India')\n",
      "\n",
      "g) Total annual rainfall for Cairo:\n",
      "27.6\n",
      "\n",
      "h) Total rainfall for each season:\n",
      "('Fall', 569.0)\n",
      "('Spring', 192.29999999999998)\n",
      "('Summer', 1706.5)\n",
      "('Winter', 230.1)\n"
     ]
    }
   ],
   "source": [
    "# Q8\n",
    "import sqlite3\n",
    "\n",
    "# Create a connection to an in-memory SQLite database\n",
    "conn = sqlite3.connect(':memory:')\n",
    "cursor = conn.cursor()\n",
    "\n",
    "# Create the Weather table\n",
    "cursor.execute('''\n",
    "CREATE TABLE Weather (\n",
    "    City TEXT,\n",
    "    Country TEXT,\n",
    "    Season TEXT,\n",
    "    Temperature REAL,\n",
    "    Rainfall REAL\n",
    ")\n",
    "''')\n",
    "\n",
    "# Insert the data into the Weather table\n",
    "data = [\n",
    "    ('Mumbai', 'India', 'Winter', 24.8, 5.9),\n",
    "    ('Mumbai', 'India', 'Spring', 28.4, 16.2),\n",
    "    ('Mumbai', 'India', 'Summer', 27.9, 1549.4),\n",
    "    ('Mumbai', 'India', 'Fall', 27.6, 346.0),\n",
    "    ('London', 'United Kingdom', 'Winter', 4.2, 207.7),\n",
    "    ('London', 'United Kingdom', 'Spring', 8.3, 169.6),\n",
    "    ('London', 'United Kingdom', 'Summer', 15.7, 157.0),\n",
    "    ('London', 'United Kingdom', 'Fall', 10.4, 218.5),\n",
    "    ('Cairo', 'Egypt', 'Winter', 13.6, 16.5),\n",
    "    ('Cairo', 'Egypt', 'Spring', 20.7, 6.5),\n",
    "    ('Cairo', 'Egypt', 'Summer', 27.7, 0.1),\n",
    "    ('Cairo', 'Egypt', 'Fall', 22.2, 4.5),\n",
    "]\n",
    "\n",
    "cursor.executemany('''\n",
    "INSERT INTO Weather (City, Country, Season, Temperature, Rainfall)\n",
    "VALUES (?, ?, ?, ?, ?)\n",
    "''', data)\n",
    "\n",
    "# Commit the changes\n",
    "conn.commit()\n",
    "\n",
    "# a) All the temperature data\n",
    "print(\"a) All the temperature data:\")\n",
    "cursor.execute(\"SELECT Temperature FROM Weather\")\n",
    "for row in cursor.fetchall():\n",
    "    print(row[0])\n",
    "\n",
    "# b) All the cities, but without repetition\n",
    "print(\"\\nb) All the cities, but without repetition:\")\n",
    "cursor.execute(\"SELECT DISTINCT City FROM Weather\")\n",
    "for row in cursor.fetchall():\n",
    "    print(row[0])\n",
    "\n",
    "# c) All the records for India\n",
    "print(\"\\nc) All the records for India:\")\n",
    "cursor.execute(\"SELECT * FROM Weather WHERE Country = 'India'\")\n",
    "for row in cursor.fetchall():\n",
    "    print(row)\n",
    "\n",
    "# d) All the Fall records\n",
    "print(\"\\nd) All the Fall records:\")\n",
    "cursor.execute(\"SELECT * FROM Weather WHERE Season = 'Fall'\")\n",
    "for row in cursor.fetchall():\n",
    "    print(row)\n",
    "\n",
    "# e) The city, country, and season for which the average rainfall is between 200 and 400 millimeters\n",
    "print(\"\\ne) City, country, and season for which average rainfall is between 200 and 400 mm:\")\n",
    "cursor.execute('''\n",
    "SELECT City, Country, Season\n",
    "FROM Weather\n",
    "GROUP BY City, Country, Season\n",
    "HAVING AVG(Rainfall) BETWEEN 200 AND 400\n",
    "''')\n",
    "for row in cursor.fetchall():\n",
    "    print(row)\n",
    "\n",
    "# f) The city and country for which the average Fall temperature is above 20 degrees, in increasing temperature order\n",
    "print(\"\\nf) City and country for which average Fall temperature is above 20 degrees, in increasing temperature order:\")\n",
    "cursor.execute('''\n",
    "SELECT City, Country\n",
    "FROM Weather\n",
    "WHERE Season = 'Fall' AND Temperature > 20\n",
    "ORDER BY Temperature ASC\n",
    "''')\n",
    "for row in cursor.fetchall():\n",
    "    print(row)\n",
    "\n",
    "# g) The total annual rainfall for Cairo\n",
    "print(\"\\ng) Total annual rainfall for Cairo:\")\n",
    "cursor.execute(\"SELECT SUM(Rainfall) FROM Weather WHERE City = 'Cairo'\")\n",
    "print(cursor.fetchone()[0])\n",
    "\n",
    "# h) The total rainfall for each season\n",
    "print(\"\\nh) Total rainfall for each season:\")\n",
    "cursor.execute('''\n",
    "SELECT Season, SUM(Rainfall) AS Total_Rainfall\n",
    "FROM Weather\n",
    "GROUP BY Season\n",
    "''')\n",
    "for row in cursor.fetchall():\n",
    "    print(row)\n",
    "\n",
    "# Close the connection\n",
    "conn.close()\n",
    "\n"
   ]
  },
  {
   "cell_type": "code",
   "execution_count": 16,
   "id": "1ef1077d-d107-4762-9639-19798fd46ccc",
   "metadata": {},
   "outputs": [
    {
     "name": "stdout",
     "output_type": "stream",
     "text": [
      "['THE', 'QUICK', 'BROWN', 'FOX', 'JUMPS', 'OVER', 'THE', 'LAZY', 'DOG']\n",
      "['the', 'quick', 'brown', 'fox', 'jumps', 'over', 'the', 'lazy', 'dog']\n",
      "[3, 5, 5, 3, 5, 4, 3, 4, 3]\n",
      "[['THE', 'the', 3], ['QUICK', 'quick', 5], ['BROWN', 'brown', 5], ['FOX', 'fox', 3], ['JUMPS', 'jumps', 5], ['OVER', 'over', 4], ['THE', 'the', 3], ['LAZY', 'lazy', 4], ['DOG', 'dog', 3]]\n",
      "['quick', 'brown', 'jumps', 'over', 'lazy']\n"
     ]
    }
   ],
   "source": [
    "# Q9\n",
    "words = ['The', 'quick', 'brown', 'fox', 'jumps', 'over', 'the', 'lazy', 'dog']\n",
    "\n",
    "# a) Uppercase words\n",
    "uppercase_words = [word.upper() for word in words]\n",
    "print(uppercase_words)\n",
    "\n",
    "# b) Lowercase words\n",
    "lowercase_words = [word.lower() for word in words]\n",
    "print(lowercase_words)\n",
    "\n",
    "# c) Lengths of words\n",
    "lengths_of_words = [len(word) for word in words]\n",
    "print(lengths_of_words)\n",
    "\n",
    "# d) Word details\n",
    "word_details = [[word.upper(), word.lower(), len(word)] for word in words]\n",
    "print(word_details)\n",
    "\n",
    "# e) Words with 4 or more characters\n",
    "words_4_or_more = [word for word in words if len(word) >= 4]\n",
    "print(words_4_or_more)\n"
   ]
  },
  {
   "cell_type": "code",
   "execution_count": null,
   "id": "0ac46911-abf5-46dc-974e-c15fe38a7080",
   "metadata": {},
   "outputs": [],
   "source": []
  }
 ],
 "metadata": {
  "kernelspec": {
   "display_name": "Python 3 (ipykernel)",
   "language": "python",
   "name": "python3"
  },
  "language_info": {
   "codemirror_mode": {
    "name": "ipython",
    "version": 3
   },
   "file_extension": ".py",
   "mimetype": "text/x-python",
   "name": "python",
   "nbconvert_exporter": "python",
   "pygments_lexer": "ipython3",
   "version": "3.12.4"
  }
 },
 "nbformat": 4,
 "nbformat_minor": 5
}
